{
  "nbformat": 4,
  "nbformat_minor": 0,
  "metadata": {
    "colab": {
      "provenance": []
    },
    "kernelspec": {
      "name": "python3",
      "display_name": "Python 3"
    },
    "language_info": {
      "name": "python"
    }
  },
  "cells": [
    {
      "cell_type": "markdown",
      "source": [
        "# IMDB Movie Rating"
      ],
      "metadata": {
        "id": "vJ89z_PfyJRS"
      }
    },
    {
      "cell_type": "markdown",
      "source": [
        "*We can scrape the IMDb movie ratings and their details with the help of the BeautifulSoup library of Python.*\n",
        "\n",
        "**Modules Needed:**\n",
        "\n",
        "Below is the list of modules required to scrape from IMDB.\n",
        "\n",
        "1.requests: Requests library is an integral part of Python for making HTTP requests to a specified URL. Whether it be REST APIs or Web Scraping, requests must be learned for proceeding further with these technologies. When one makes a request to a URI, it returns a response.\n",
        "\n",
        "2.html5lib: A pure-python library for parsing HTML. It is designed to conform to the WHATWG HTML specification, as is implemented by all major web browsers.\n",
        "\n",
        "3.bs4: BeautifulSoup object is provided by Beautiful Soup which is a web scraping framework for Python. Web scraping is the process of extracting data from the website using automated tools to make the process faster.\n",
        "\n",
        "4.pandas: Pandas is a library made over the NumPy library which provides various data structures and operators to manipulate the numerical data."
      ],
      "metadata": {
        "id": "YXSlSo46yPjQ"
      }
    },
    {
      "cell_type": "markdown",
      "source": [
        "**Approach:**\n",
        "\n",
        "Steps to implement web scraping in python to extract IMDb movie ratings and its ratings:\n",
        "\n",
        "*Import the required modules.*"
      ],
      "metadata": {
        "id": "G72Jh8FN2ZSy"
      }
    },
    {
      "cell_type": "code",
      "source": [
        "from bs4 import BeautifulSoup\n",
        "import requests\n",
        "import re\n",
        "import pandas as pd"
      ],
      "metadata": {
        "id": "zoMD1jXE2wRA"
      },
      "execution_count": 10,
      "outputs": []
    },
    {
      "cell_type": "markdown",
      "source": [
        "*Access the HTML content from the webpage by assigning the URL and creating a soap object.*"
      ],
      "metadata": {
        "id": "O6PFARvh2_kR"
      }
    },
    {
      "cell_type": "code",
      "source": [
        "# Downloading imdb top 250 movie's data\n",
        "url = 'http://www.imdb.com/chart/top'\n",
        "response = requests.get(url)\n",
        "soup = BeautifulSoup(response.text, \"html.parser\")\n"
      ],
      "metadata": {
        "id": "DV8WJl8f3BEI"
      },
      "execution_count": 11,
      "outputs": []
    },
    {
      "cell_type": "markdown",
      "source": [
        "*Extract the movie ratings and their details. Here, we are extracting data from the BeautifulSoup object using Html tags like href, title, etc.*"
      ],
      "metadata": {
        "id": "gApbdfvK3ETJ"
      }
    },
    {
      "cell_type": "code",
      "source": [
        "movies = soup.select('td.titleColumn')\n",
        "crew = [a.attrs.get('title') for a in soup.select('td.titleColumn a')]\n",
        "ratings = [b.attrs.get('data-value')\n",
        "\t\tfor b in soup.select('td.posterColumn span[name=ir]')]"
      ],
      "metadata": {
        "id": "OLqH2lE73JpG"
      },
      "execution_count": 12,
      "outputs": []
    },
    {
      "cell_type": "markdown",
      "source": [
        "*After extracting the movie details, create an empty list and store the details in a dictionary, and then add them to a list.*"
      ],
      "metadata": {
        "id": "j2uxh6dQ3M4A"
      }
    },
    {
      "cell_type": "code",
      "source": [
        "# create a empty list for storing\n",
        "# movie information\n",
        "list = []\n",
        "\n",
        "# Iterating over movies to extract\n",
        "# each movie's details\n",
        "for index in range(0, len(movies)):\n",
        "\n",
        "\t# Separating movie into: 'place',\n",
        "\t# 'title', 'year'\n",
        "\tmovie_string = movies[index].get_text()\n",
        "\tmovie = (' '.join(movie_string.split()).replace('.', ''))\n",
        "\tmovie_title = movie[len(str(index))+1:-7]\n",
        "\tyear = re.search('\\((.*?)\\)', movie_string).group(1)\n",
        "\tplace = movie[:len(str(index))-(len(movie))]\n",
        "\tdata = {\"place\": place,\n",
        "\t\t\t\"movie_title\": movie_title,\n",
        "\t\t\t\"rating\": ratings[index],\n",
        "\t\t\t\"year\": year,\n",
        "\t\t\t\"star_cast\": crew[index],\n",
        "\t\t\t}\n",
        "\tlist.append(data)"
      ],
      "metadata": {
        "id": "fee9pU4r3Pt9"
      },
      "execution_count": 13,
      "outputs": []
    },
    {
      "cell_type": "markdown",
      "source": [
        "*Now or list is filled with top IMBD movies along with their details. Then display the list of movie details*"
      ],
      "metadata": {
        "id": "RsdJDql43aIt"
      }
    },
    {
      "cell_type": "code",
      "source": [
        "for movie in list:\n",
        "\tprint(movie['place'], '-', movie['movie_title'], '('+movie['year'] +\n",
        "\t\t') -', 'Starring:', movie['star_cast'], movie['rating'])"
      ],
      "metadata": {
        "id": "vDPG5nKc3cmb"
      },
      "execution_count": 14,
      "outputs": []
    },
    {
      "cell_type": "markdown",
      "source": [
        "*By using the following lines of code the same data can be saved into a .csv file be further used as a dataset.*"
      ],
      "metadata": {
        "id": "6T7Xfwhs3eQF"
      }
    },
    {
      "cell_type": "code",
      "source": [
        "#saving the list as dataframe\n",
        "#then converting into .csv file\n",
        "df = pd.DataFrame(list)\n",
        "df.to_csv('imdb_top_250_movies.csv',index=False)"
      ],
      "metadata": {
        "id": "FficmJmd3jzL"
      },
      "execution_count": 15,
      "outputs": []
    },
    {
      "cell_type": "markdown",
      "source": [
        "**Implementation: Complete Code**"
      ],
      "metadata": {
        "id": "2rX49Lpa3oOI"
      }
    },
    {
      "cell_type": "code",
      "source": [
        "from bs4 import BeautifulSoup\n",
        "import requests\n",
        "import re\n",
        "import pandas as pd\n",
        "\n",
        "\n",
        "# Downloading imdb top 250 movie's data\n",
        "url = 'http://www.imdb.com/chart/top'\n",
        "response = requests.get(url)\n",
        "soup = BeautifulSoup(response.text, \"html.parser\")\n",
        "movies = soup.select('td.titleColumn')\n",
        "crew = [a.attrs.get('title') for a in soup.select('td.titleColumn a')]\n",
        "ratings = [b.attrs.get('data-value')\n",
        "\t\tfor b in soup.select('td.posterColumn span[name=ir]')]\n",
        "\n",
        "\n",
        "\n",
        "\n",
        "# create a empty list for storing\n",
        "# movie information\n",
        "list = []\n",
        "\n",
        "# Iterating over movies to extract\n",
        "# each movie's details\n",
        "for index in range(0, len(movies)):\n",
        "\n",
        "\t# Separating movie into: 'place',\n",
        "\t# 'title', 'year'\n",
        "\tmovie_string = movies[index].get_text()\n",
        "\tmovie = (' '.join(movie_string.split()).replace('.', ''))\n",
        "\tmovie_title = movie[len(str(index))+1:-7]\n",
        "\tyear = re.search('\\((.*?)\\)', movie_string).group(1)\n",
        "\tplace = movie[:len(str(index))-(len(movie))]\n",
        "\tdata = {\"place\": place,\n",
        "\t\t\t\"movie_title\": movie_title,\n",
        "\t\t\t\"rating\": ratings[index],\n",
        "\t\t\t\"year\": year,\n",
        "\t\t\t\"star_cast\": crew[index],\n",
        "\t\t\t}\n",
        "\tlist.append(data)\n",
        "\n",
        "# printing movie details with its rating.\n",
        "for movie in list:\n",
        "\tprint(movie['place'], '-', movie['movie_title'], '('+movie['year'] +\n",
        "\t\t') -', 'Starring:', movie['star_cast'], movie['rating'])\n",
        "\n",
        "\n",
        "##.......##\n",
        "df = pd.DataFrame(list)\n",
        "df.to_csv('imdb_top_250_movies.csv',index=False)"
      ],
      "metadata": {
        "id": "uDpLK8Lf4nft"
      },
      "execution_count": 19,
      "outputs": []
    }
  ]
}